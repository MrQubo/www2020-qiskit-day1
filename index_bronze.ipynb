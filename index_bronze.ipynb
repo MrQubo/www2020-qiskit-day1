{
 "cells": [
  {
   "cell_type": "markdown",
   "metadata": {},
   "source": [
    "<h1 align=\"center\" style=\"color: #cd7f32;\"> Welcome to QWorld's Bronze </h1>"
   ]
  },
  {
   "cell_type": "markdown",
   "metadata": {},
   "source": [
    "<font style=\"color: #cd7f32;size:+1;\"><b>Bronze</b></font> is our introductory tutorial to introduce the basics of quantum computation and quantum programming. It is a big collection of [Jupyter notebooks](https://jupyter.org).\n",
    "\n",
    "Bronze can be used to organize two-day or three-day long workshops or to design one-semester course for the second or third year university students. In Bronze, we focus on real numbers and skip to use complex numbers to keep the tutorial simpler. Here is a complete list of our workshops using Bronze: <a href=\"http://qworld.lu.lv/index.php/workshop-bronze/#list\" target=\"_blank\">QWBronze</a>. \n",
    "\n",
    "*If you are using Jupyter notebooks for the first time, you can check our very short <a href=\"python/Python02_Into_Notebooks.ipynb\" target=\"_blank\">Introduction for Notebooks</a>.*\n",
    "\n",
    "**The open-source toolkit we are using**\n",
    "- Programming language: <a href=\"https://www.python.org\" target=\"_blank\">python</a>\n",
    "- Quantum programming libraries:</u> <a href=\"https://qiskit.org\" target=\"_blank\">Qiskit</a> is the main library at the moment. We are extending Bronze to use <a href=\"https://projectq.ch\" target=\"_blank\">ProjectQ</a>, <a href=\"https://github.com/quantumlib/Cirq\" target=\"_blank\">Cirq</a>, and <a href=\"http://docs.rigetti.com/en/stable/\" target=\"_blank\">pyQuil</a>.\n",
    "- We use <a href=\"https://www.mathjax.org\" target=\"_blank\">MathJax</a> to display mathematical expressions on html files (e.g., exercises).\n",
    "-  We use open source  interactive tool <a href=\"http://play.quantumgame.io\" target=\"_blank\">quantumgame</a> for showing quantum coin flipping experiments."
   ]
  },
  {
   "cell_type": "markdown",
   "metadata": {},
   "source": [
    "### Installation and Test\n",
    "\n",
    "Before starting to use Bronze, please test your system by using the following notebook(s)!\n",
    "\n",
    "Qiskit is the main the quantum programming library, and you should install it to follow the whole Bronze. The installations  of the other programmming libraries are options at the moment.\n",
    "\n",
    "<ul>\n",
    "    <li><a href=\"test/Qiskit_installation_and_test.ipynb\" target=\"_blank\">Qiskit installation and test</a></li>\n",
    "</ul>"
   ]
  },
  {
   "cell_type": "markdown",
   "metadata": {},
   "source": [
    "<h1 style=\"color: #cd7f32;\"> Content </h1>\n",
    "\n",
    "[Credits](bronze/B00_Credits.ipynb)\n",
    "\n",
    "### References\n",
    "\n",
    "[Python Reference](python/Python04_Quick_Reference.ipynb) &nbsp;|&nbsp;\n",
    "[Python: Drawing](python/Python06_Drawing.ipynb) &nbsp;|&nbsp;\n",
    "[Qiskit Reference](bronze/B01_Qiskit_Reference.ipynb)\n",
    "\n",
    "### Python review\n",
    "\n",
    "[Variables](python/Python08_Basics_Variables.ipynb) &nbsp;|&nbsp;\n",
    "[Loops](python/Python12_Basics_Loops.ipynb) &nbsp;|&nbsp;\n",
    "[Conditionals](python/Python16_Basics_Conditionals.ipynb) &nbsp;|&nbsp;\n",
    "[Lists](python/Python16_Basics_Conditionals.ipynb)\n",
    "\n",
    "### Basic math\n",
    "\n",
    "[Vectors](math/Math20_Vectors.ipynb) &nbsp;|&nbsp;\n",
    "[Dot Product](math/Math24_Dot_Product.ipynb) &nbsp;|&nbsp;\n",
    "[Matrices](math/Math28_Matrices.ipynb) &nbsp;|&nbsp;\n",
    "[Tensor Product](math/Math32_Tensor_Product.ipynb) &nbsp;|&nbsp;\n",
    "[Exercises](exercises/E05_Basic_Math.ipynb)\n",
    "\n",
    "### Basics of classical systems\n",
    "\n",
    "[One Bit](bronze/B03_One_Bit.ipynb)  &nbsp;|&nbsp;\n",
    "[Coin Flipping](bronze/B06_Coin_Flip.ipynb)  &nbsp;|&nbsp;\n",
    "[Coin Flipping Game](bronze/B09_Coin_Flip_Game.ipynb)  &nbsp;|&nbsp;\n",
    "[Probabilistic States](bronze/B12_Probabilistic_States.ipynb)  &nbsp;|&nbsp;\n",
    "[Probabilistic Operators](bronze/B15_Probabilistic_Operators.ipynb) \n",
    "\n",
    "[Two Probabilistic Bits](bronze/B17_Two_Probabilistic_Bits.ipynb)  &nbsp;|&nbsp;\n",
    "[Freivalds [optional]](bronze/B17-5_Freivalds.ipynb)  &nbsp;|&nbsp;\n",
    "[Correlation](bronze/B18_Correlation.ipynb)  &nbsp;|&nbsp;\n",
    "[Exercises](exercises/E09_Probabilistic_Systems.ipynb)"
   ]
  },
  {
   "cell_type": "markdown",
   "metadata": {},
   "source": [
    "<h1 style=\"color: #cd7f32;\"> Projects </h1>\n",
    "\n",
    "*Difficulty levels:\n",
    "easy (<font size=\"+1\" color=\"7777ee\">&#9733;</font>), \n",
    "medium (<font size=\"+1\" color=\"7777ee\">&#9733;&#9733;</font>), and\n",
    "hard (<font size=\"+1\" color=\"7777ee\">&#9733;&#9733;&#9733;</font>).*\n",
    "\n",
    "<font size=\"+1\" color=\"7777ee\">&nbsp;&nbsp;&nbsp;&nbsp;&nbsp;&nbsp;&#9733;</font> |\n",
    "[Correlation Game](projects/Project_Correlation_Game.ipynb) *on classical bits*\n",
    "\\\n",
    "<font size=\"+1\" color=\"7777ee\">&nbsp;&nbsp;&nbsp;&nbsp;&nbsp;&nbsp;&#9733;</font> |\n",
    "[Swapping Quantum States](projects/Project_Swapping_Quantum_States.ipynb) *on qubits*\n",
    "\\\n",
    "<font size=\"+1\" color=\"7777ee\">&nbsp;&nbsp;&nbsp;&#9734;&#9733;</font> |\n",
    "[Simulating a Real-Valued Qubit](projects/Project_Simulating_a_RealValued_Qubit.ipynb)\n",
    "\\\n",
    "<font size=\"+1\" color=\"7777ee\">&nbsp;&nbsp;&nbsp;&#9733;&#9733;</font> |\n",
    "[Quantum Tomography with Many Qubits](projects/Project_Quantum_Tomography_with_Many_Qubits.ipynb)\n",
    "\\\n",
    "<font size=\"+1\" color=\"7777ee\">&nbsp;&nbsp;&nbsp;&#9733;&#9733;</font> |\n",
    "[Implementing Quantum Teleportation](projects/Project_Implementing_Quantum_Teleportation.ipynb)\n",
    "\\\n",
    "<font size=\"+1\" color=\"7777ee\">&#9734;&#9733;&#9733;</font> |\n",
    "[Communication via Superdense Coding](projects/Project_Communication_via_Superdense_Coding.ipynb)\n",
    "\\\n",
    "<font size=\"+1\" color=\"7777ee\">&#9733;&#9733;&#9733;</font> |\n",
    "[Your Quantum Simulator](projects/Project_Your_Quantum_Simulator.ipynb)"
   ]
  }
 ],
 "metadata": {
  "kernelspec": {
   "display_name": "Python 3",
   "language": "python",
   "name": "python3"
  },
  "language_info": {
   "codemirror_mode": {
    "name": "ipython",
    "version": 3
   },
   "file_extension": ".py",
   "mimetype": "text/x-python",
   "name": "python",
   "nbconvert_exporter": "python",
   "pygments_lexer": "ipython3",
   "version": "3.8.3"
  }
 },
 "nbformat": 4,
 "nbformat_minor": 4
}
